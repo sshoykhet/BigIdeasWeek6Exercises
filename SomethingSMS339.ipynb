{
 "cells": [
  {
   "cell_type": "code",
   "execution_count": 1,
   "metadata": {},
   "outputs": [
    {
     "name": "stdin",
     "output_type": "stream",
     "text": [
      "Enter your name. sj\n",
      "Enter your birthday. (xx/xx/xxxx) 09/27/2020\n"
     ]
    },
    {
     "name": "stdout",
     "output_type": "stream",
     "text": [
      "You are -1 years old.\n"
     ]
    }
   ],
   "source": [
    "name = input(prompt=\"Enter your name.\")\n",
    "bDayFull = input(prompt=\"Enter your birthday. (xx/xx/xxxx)\")\n",
    "n = len(bDayFull)\n",
    "p = 0\n",
    "q = 0\n",
    "while (p < n):\n",
    "    if (bDayFull[p:p+1] == '/'):\n",
    "        q = p\n",
    "        break\n",
    "    p += 1\n",
    "bMonth = int(bDayFull[0:q])\n",
    "bDayFull = bDayFull[q + 1: n]\n",
    "n = len(bDayFull)\n",
    "p = 0\n",
    "q = 0\n",
    "while (p < n):\n",
    "    if (bDayFull[p:p+1] == '/'):\n",
    "        q = p\n",
    "        break\n",
    "    p += 1\n",
    "bDay = int(bDayFull[0:q])\n",
    "bYear = int(bDayFull[q + 1: n])\n",
    "if (bMonth < 9 or (bMonth == 9 and bDay < 23)):\n",
    "    print(\"You are \" + str(2020 - bYear) + \" years old.\")\n",
    "else:\n",
    "    print(\"You are \" + str(2020 - bYear - 1) + \" years old.\")"
   ]
  },
  {
   "cell_type": "code",
   "execution_count": null,
   "metadata": {},
   "outputs": [],
   "source": []
  }
 ],
 "metadata": {
  "kernelspec": {
   "display_name": "Python 3",
   "language": "python",
   "name": "python3"
  },
  "language_info": {
   "codemirror_mode": {
    "name": "ipython",
    "version": 3
   },
   "file_extension": ".py",
   "mimetype": "text/x-python",
   "name": "python",
   "nbconvert_exporter": "python",
   "pygments_lexer": "ipython3",
   "version": "3.8.3"
  }
 },
 "nbformat": 4,
 "nbformat_minor": 4
}
